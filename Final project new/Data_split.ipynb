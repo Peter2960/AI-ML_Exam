{
 "cells": [
  {
   "cell_type": "code",
   "execution_count": 1,
   "id": "86293bcb-ffa1-4180-a396-ba3e4f5c6f80",
   "metadata": {},
   "outputs": [
    {
     "name": "stdout",
     "output_type": "stream",
     "text": [
      "Dataset split completed successfully.\n"
     ]
    }
   ],
   "source": [
    "import os\n",
    "import shutil\n",
    "from sklearn.model_selection import train_test_split\n",
    "\n",
    "# accessing data\n",
    "data_dir = '../Final project new/Image data/'\n",
    "fake_dir = os.path.join(data_dir, 'fake')\n",
    "real_dir = os.path.join(data_dir, 'real')\n",
    "\n",
    "\n",
    "# making some new directories for training, validation and test data\n",
    "train_dir = os.path.join(data_dir, 'training')\n",
    "val_dir = os.path.join(data_dir, 'validation')\n",
    "test_dir = os.path.join(data_dir, 'test')\n",
    "os.makedirs(train_dir, exist_ok=True)\n",
    "os.makedirs(val_dir, exist_ok=True)\n",
    "os.makedirs(test_dir, exist_ok=True)\n",
    "\n",
    "# moving files from source directory to destination directory\n",
    "# we create a destination directory in case it does not exist\n",
    "def move_files(files, src_dir, dest_dir):\n",
    "    os.makedirs(dest_dir, exist_ok=True)\n",
    "    for file in files:\n",
    "        src_path = os.path.join(src_dir, file)\n",
    "        dest_path = os.path.join(dest_dir, file)\n",
    "        shutil.move(src_path, dest_path)\n",
    "\n",
    "# first we split the  fake images into training, validation, and test sets\n",
    "fake_files = os.listdir(fake_dir)\n",
    "fake_train, fake_temp = train_test_split(fake_files, test_size=0.4, random_state=42)\n",
    "fake_val, fake_test = train_test_split(fake_temp, test_size=0.5, random_state=42)\n",
    "\n",
    "move_files(fake_train, fake_dir, os.path.join(train_dir, 'fake'))\n",
    "move_files(fake_val, fake_dir, os.path.join(val_dir, 'fake'))\n",
    "move_files(fake_test, fake_dir, os.path.join(test_dir, 'fake'))\n",
    "\n",
    "# then we split the real images into training, validation, and test sets\n",
    "real_files = os.listdir(real_dir)\n",
    "real_train, real_temp = train_test_split(real_files, test_size=0.4, random_state=42)\n",
    "real_val, real_test = train_test_split(real_temp, test_size=0.5, random_state=42)\n",
    "\n",
    "move_files(real_train, real_dir, os.path.join(train_dir, 'real'))\n",
    "move_files(real_val, real_dir, os.path.join(val_dir, 'real'))\n",
    "move_files(real_test, real_dir, os.path.join(test_dir, 'real'))\n",
    "\n",
    "print(\"Dataset split completed successfully.\")\n"
   ]
  },
  {
   "cell_type": "code",
   "execution_count": null,
   "id": "041814a6-38ee-4573-9cf5-7d2b39a33645",
   "metadata": {},
   "outputs": [],
   "source": []
  }
 ],
 "metadata": {
  "kernelspec": {
   "display_name": "Python 3 ",
   "language": "python",
   "name": "python3"
  },
  "language_info": {
   "codemirror_mode": {
    "name": "ipython",
    "version": 3
   },
   "file_extension": ".py",
   "mimetype": "text/x-python",
   "name": "python",
   "nbconvert_exporter": "python",
   "pygments_lexer": "ipython3",
   "version": "3.10.14"
  }
 },
 "nbformat": 4,
 "nbformat_minor": 5
}
